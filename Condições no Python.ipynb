{
 "cells": [
  {
   "cell_type": "markdown",
   "id": "af550f09",
   "metadata": {},
   "source": [
    "Condições no Python IF\n",
    "\n",
    "Estrutura \n",
    "\n",
    "Uso mais simples:"
   ]
  },
  {
   "cell_type": "markdown",
   "id": "1b1d0f29",
   "metadata": {},
   "source": [
    "if condicao :\n",
    "\n",
    "   o que fazer caso a condição seja verdadeira"
   ]
  },
  {
   "cell_type": "markdown",
   "id": "6013d39e",
   "metadata": {},
   "source": [
    "Exemplo Real\n",
    "\n",
    "Digamos que vocÊ trabalha na Amazon (que tem centenas de milhares, se não milhões de produtos) e está analisando o resultado de vendas dos produtos. \n",
    "\n",
    "Você precisa criar um programa que vai analisar o resultado de vendas dos produtos da Amazon em um mês. Para simplificar vamos pensar em um único produto: um Iphone.\n",
    "\n",
    "Meta de vendas do Iphone = 50.000 unidades\n",
    "Quantidade vendida no mês = 65.300 unidades\n",
    "\n",
    "O seu programa deve avisar (usaremos o print por enquanto) caso o produto tenha batido a meta do mês. Então devemos fazer: \n",
    "\n",
    "- caso o produto tenha batido a meta, devemos exibir a mensagem : \"Batemos a meta de vendas do Iphone, vendemos x unidades\"\n",
    "- se ele não bateu a meta do mês, o seu programa não deve fazer nada"
   ]
  },
  {
   "cell_type": "code",
   "execution_count": 5,
   "id": "51f51b56",
   "metadata": {},
   "outputs": [
    {
     "name": "stdout",
     "output_type": "stream",
     "text": [
      "Batemos a meta de vendas do Iphone, vendemos 100000 unidades\n"
     ]
    }
   ],
   "source": [
    "meta = 50000\n",
    "qtde_vendida = 100000\n",
    "\n",
    "if qtde_vendida > meta:\n",
    "    print(f\"Batemos a meta de vendas do Iphone, vendemos {qtde_vendida} unidades\")"
   ]
  },
  {
   "cell_type": "markdown",
   "id": "f2180ef6",
   "metadata": {},
   "source": [
    "Tratando a condição falsa:\n",
    "\n",
    "Quando usamos o if, nem sempre queremos apenas analisar o caso verdadeiro, em boa parte das vezes queremos fazer alguma coisa caso a condição seja verdadeira e fazer outra coisa caso a condição seja falsa. \n",
    "\n",
    "Nesse caso usaremos: \n"
   ]
  },
  {
   "cell_type": "markdown",
   "id": "f5837ac2",
   "metadata": {},
   "source": [
    "if condicao: \n",
    "    o que eu quero fazer caso a condição seja verdadeira\n",
    "else\n",
    "    o que eu quero fazer caso a condição seja falsa"
   ]
  },
  {
   "cell_type": "markdown",
   "id": "f5966ff9",
   "metadata": {},
   "source": [
    "Voltando ao nosso exemplo da Amazon e do Iphone, agora nosso programa deve avisar nos 2 casos: \n",
    "\n",
    "- caso o produto tenha batido a meta, devemos exibir a mensagem: \"batemos a meta de vendas de Iphone, vendemos x unidades\" \n",
    "- se ele nao bateu a meta do mês, devemos exibir a mensagem \"Infelizmente não batemos a meta, vendemos x unidades. A meta era de x unidades\" "
   ]
  },
  {
   "cell_type": "code",
   "execution_count": 11,
   "id": "9fbf9f34",
   "metadata": {},
   "outputs": [
    {
     "name": "stdout",
     "output_type": "stream",
     "text": [
      "Infelizmente não batemos a meta, vendemos 6 unidades. A meta era de 50000 unidades\n"
     ]
    }
   ],
   "source": [
    "meta = 50000\n",
    "qtde_vendida = 6\n",
    "\n",
    "if qtde_vendida > meta: \n",
    "    print(f\"Batemos a meta de vendas do Iphone, vendemos {qtde_vendida} unidades\")\n",
    "else:\n",
    "    print(f\"Infelizmente não batemos a meta, vendemos {qtde_vendida} unidades. A meta era de {meta} unidades\")"
   ]
  },
  {
   "cell_type": "markdown",
   "id": "99fae328",
   "metadata": {},
   "source": [
    "Blocos e Identação\n",
    "\n",
    "Estrutura \n",
    "\n",
    "Sempre que usamos o if ou qualquer outra estrutura no Python, devemos usar a identação para dizer ao programa onde a estrutura começa e onde ela termina. \n",
    "\n",
    "Isso vai ajudar muito quanto tivemos mais de 1 condição ao mesmo tempo e quando tivermos várias ações para fazer dentro de um if. \n",
    "\n",
    "Várias ações em 1 IF: \n",
    "\n",
    "if condição: \n",
    "    alguma coisa\n",
    "    outra coisa\n",
    "    outra coisa\n",
    "else:\n",
    "    uma coisa \n",
    "    uma coisa mais \n",
    "    coisa final "
   ]
  },
  {
   "cell_type": "markdown",
   "id": "e6a0b125",
   "metadata": {},
   "source": [
    "Exemplo: \n",
    "\n",
    "Digamos que você precisa criar um programa para um fundo de investimentos conseguir avaliar o resultado de uma carteira de ações e o quanto a taa deverá ser pago\n",
    "\n",
    "A regra desse fundo de investimento é : \n",
    "\n",
    "- o fundo se compromete a entregar no mínimo 5% de retorno ao ano\n",
    "- caso o fundo não consiga entregar os 5% de retorno, ele não pode cobrar taxa de seus investidores\n",
    "- caso o fund consiga entregar mais de 5% de retorno, ele irá cobrar 2% de taxa dos seus investidores\n",
    "- caso o fundo consiga mais de 20% de retorno, ele ira cobrar 4% de taxa dos seus investidores"
   ]
  },
  {
   "cell_type": "code",
   "execution_count": 16,
   "id": "8a9d256d",
   "metadata": {},
   "outputs": [
    {
     "name": "stdout",
     "output_type": "stream",
     "text": [
      "A taxa foi de 0.04\n"
     ]
    }
   ],
   "source": [
    "meta = 0.05\n",
    "taxa = 0\n",
    "rendimento = 0.250\n",
    "\n",
    "if rendimento > meta:\n",
    "    if rendimento > 0.20:\n",
    "        taxa = 0.04\n",
    "        print('A taxa foi de {}'.format(taxa))\n",
    "    else:\n",
    "        taxa = 0.02\n",
    "        print('A taxa foi de {}'.format(taxa))\n",
    "else:\n",
    "    taxa = 0\n",
    "    print('A taxa foi de {}'.format(taxa))"
   ]
  },
  {
   "cell_type": "markdown",
   "id": "f6e1cc6d",
   "metadata": {},
   "source": [
    "Mais de uma condição ao mesmo tempo:\n",
    "\n",
    "if condicao 1:\n",
    "    o que fazer se a condição 1 for verdadeira\n",
    "    if condição 2 :\n",
    "        o que fazer se a condição 1 e 2 for verdadeira\n",
    "    else:\n",
    "        o que fazer se a condição 2 for falsa (mas a condição 1 é verdadeira)\n",
    "else: \n",
    "    o que fazer se a condição 1 for falsa "
   ]
  },
  {
   "cell_type": "markdown",
   "id": "269eb25c",
   "metadata": {},
   "source": [
    "Elif\n",
    "\n",
    "E se temos mais do que um caso de sim e não?\n",
    "\n",
    "E se tivermos 3 casos ?\n",
    "\n",
    "Usamos o elif da seguinte forma :\n",
    "\n",
    "if condicao:\n",
    "    o que fazer se a condição 1 for verdadeira\n",
    "elif condicao 2\n",
    "    o que fazer se a condição 1 for falsa e a condição 2 for verdadeira\n",
    "else:\n",
    "    o que fazer se a condição 1 e a condição 2 forem falsas"
   ]
  },
  {
   "cell_type": "markdown",
   "id": "8b14f962",
   "metadata": {},
   "source": [
    "Exemplo: \n",
    "\n",
    "Vamos criar um programa para analisar o bonus dos funcionarios de uma empresa (pode parecer simples, mas uma empresa como a Amazon tem 900.000) \n",
    "\n",
    "Para os cargos de vendedores, a regra do bonus é de acordo com a meta de vendas da pessoa:\n",
    "\n",
    "- se ela vendeu abaixo da meta dela, ela nã ganha bonus\n",
    "- se ela vendeu acima da meta dela, ela ganha como bonus 3% do valor que ela vendeu\n",
    "- se ela vendeu mais do que o dobro da meta dela, ela ganha como bonus 7% do valor que ela vendeu\n",
    "\n",
    "Vamos criar um programa para avaliar uma pessoa que tinha como meta de vendas 20.000 reais e calcular o bonus dela de acordo com o valor de vendas que ela tiver"
   ]
  },
  {
   "cell_type": "code",
   "execution_count": 23,
   "id": "0c6fc58e",
   "metadata": {},
   "outputs": [
    {
     "name": "stdout",
     "output_type": "stream",
     "text": [
      "Ganhou 3500.0000000000005 de bonus\n"
     ]
    }
   ],
   "source": [
    "meta = 20000\n",
    "vendas = 50000\n",
    "\n",
    "if vendas < meta: #vendas menor que meta condicao 1 \n",
    "    print(\"Não ganhou bonus\")\n",
    "elif vendas > (meta *2): #condicao 2 \n",
    "    bonus = 0.07 * vendas\n",
    "    print('Ganhou {} de bonus'.format(bonus))\n",
    "else: \n",
    "    bonus = 0.03 * vendas \n",
    "    print('Ganhou {} de bonus'.format(bonus))\n",
    "    "
   ]
  },
  {
   "cell_type": "markdown",
   "id": "98eb056e",
   "metadata": {},
   "source": [
    "Comparadores\n",
    "\n",
    "== igual \n",
    "!= diferente \n",
    "> maior que (>= maior ou igual)\n",
    "< menor que (<= menor ou igual)\n",
    "in texto existe dentro de outro texto\n",
    "not verifica o contrário da comparação\n",
    "\n",
    "obs. se em alguma condição vocÊ não quiser fazer nada, você pode simplesmente escrever:\n",
    "pass\n",
    "\n",
    "\n"
   ]
  },
  {
   "cell_type": "code",
   "execution_count": 27,
   "id": "4166af55",
   "metadata": {},
   "outputs": [
    {
     "name": "stdout",
     "output_type": "stream",
     "text": [
      "Programa1\n",
      "Os faturamentos são diferentes\n"
     ]
    }
   ],
   "source": [
    "faturamento_loja1 = 2500\n",
    "faturamento_loja2 = 2200\n",
    "email = \"luizgmail.com\"\n",
    "\n",
    "print('Programa1')\n",
    "if faturamento_loja1 == faturamento_loja2:\n",
    "    print('Os faturamentos são iguais')\n",
    "else:\n",
    "    print('Os faturamentos são diferentes')"
   ]
  },
  {
   "cell_type": "code",
   "execution_count": 29,
   "id": "cfd785fd",
   "metadata": {},
   "outputs": [
    {
     "name": "stdout",
     "output_type": "stream",
     "text": [
      "Programa2\n",
      "Email errado\n"
     ]
    }
   ],
   "source": [
    "print('Programa2')\n",
    "if email == 'luiz@gmail.com':\n",
    "    print('Email correto')\n",
    "else:\n",
    "    print('Email errado')"
   ]
  },
  {
   "cell_type": "code",
   "execution_count": 34,
   "id": "3c89dd50",
   "metadata": {},
   "outputs": [
    {
     "name": "stdout",
     "output_type": "stream",
     "text": [
      "Programa3\n",
      "Insira seu emailsss\n",
      "Email Invalido\n"
     ]
    }
   ],
   "source": [
    "print('Programa3')\n",
    "email_usuario = input('Insira seu email')\n",
    "if not '@' in email_usuario:\n",
    "    print('Email Invalido')\n",
    "else:\n",
    "    pass "
   ]
  },
  {
   "cell_type": "markdown",
   "id": "e78acd04",
   "metadata": {},
   "source": [
    "Casos com várias condições/comparações\n",
    "\n",
    "Estrutura: \n",
    "\n",
    "Quando temos várias comparações, ao inves de criar if dentro de if podemos usar operadores \"and\" e \"or\" para tratar essas condições\n",
    "\n",
    "Funciona assim: \n",
    "\n",
    "if condicao 1 and condicao2:\n",
    "    vai ser executado se as 2 condicoes forem verdadeiras ao mesmo tempo \n",
    "    \n",
    "outro caso:\n",
    "\n",
    "if condicao1 or condicao 2:\n",
    "    vai ser executado se pelo menos uma das condicoes forem verdadeiras\n",
    "    \n",
    "Exemplo\n",
    "\n",
    "Vamos voltar ao exemplo de calculo de meta de vendas dos funcionarios. Muitas empresas atribuem bonificação do salario dos funcionarios de acordo com o resultado do funcionario e tambem com o resultado da empresa como um todo. \n",
    "\n",
    "Nesse caso, a regra funciona da seguinte forma : \n",
    "\n",
    "- se o funcionario vendeu mais do que a meta de vendas e a loja bateu a meta de vendas da loja, o funcionaro ganha 3% do que ele vendeu em bonus\n",
    "\n",
    "- caso o funcionario tenha batido a meta de vendas individual dele, mas a loja não tenha batido a meta de vendas da loja como um todo, o funcionario não ganha bonus"
   ]
  },
  {
   "cell_type": "code",
   "execution_count": 52,
   "id": "640fe4f4",
   "metadata": {},
   "outputs": [
    {
     "name": "stdout",
     "output_type": "stream",
     "text": [
      "Funcionário não ganhou bonus\n"
     ]
    }
   ],
   "source": [
    "meta_funcionario = 10000\n",
    "meta_loja = 250000\n",
    "vendas_funcionario = 15000\n",
    "vendas_loja = 0\n",
    "\n",
    "if vendas_funcionario > meta_funcionario and vendas_loja > meta_loja:\n",
    "    bonus = 0.03 * vendas_funcionario\n",
    "    print('Bonus do funcionario foi de {}'.format(bonus))\n",
    "else:\n",
    "    print('Funcionário não ganhou bonus')\n"
   ]
  },
  {
   "cell_type": "markdown",
   "id": "40df5ca5",
   "metadata": {},
   "source": [
    "Outro exemplo: \n",
    "\n",
    "Agora vamos levar essa analise mais a fundo\n",
    "\n",
    "Nessa empresa, existe um outro caso também que garante que o funcionário ganhe um bonus, independente das vendas que ele fez naquele mes. \n",
    "\n",
    "Todos mes os diretores da empresa fazem uma avaliação qualitativa de todos os funcionários. Nessa avaliação os diretores dão uma nota de 0 a 10 para o funcionário. Se a nota do funcionário for 9 ou 10, ele também ganha bonus de 3% do valor de vendas. (os bonus nao são cumulativos) "
   ]
  },
  {
   "cell_type": "code",
   "execution_count": 55,
   "id": "6e473562",
   "metadata": {},
   "outputs": [
    {
     "name": "stdout",
     "output_type": "stream",
     "text": [
      "Funcionario nao ganhou bonus\n"
     ]
    }
   ],
   "source": [
    "nota_funcionario = 5 \n",
    "meta_nota = 9\n",
    "\n",
    "if nota_funcionario >= meta_nota or (vendas_funcionario > meta_funcionario and vendas_loja > meta_loja):\n",
    "    bonus = 0.03 * vendas_funcionario\n",
    "    print('Bonus do funcionario foi de {}'.format(bonus))\n",
    "else:\n",
    "    print('Funcionario nao ganhou bonus')"
   ]
  },
  {
   "cell_type": "markdown",
   "id": "99e33381",
   "metadata": {},
   "source": [
    "Exercicio com if\n",
    "\n",
    "1. Calculo de Bonus\n",
    "\n",
    "- crie um programa que calcule e de um print no bonus que os funcionarios devem receber segunda a regra: \n",
    "\n",
    "a meta é 1000 vendas\n",
    "\n",
    "se o valor de vendas for maior ou igual a meta, o valor do bonus do funcionario é 10% do valor de vendas. \n",
    "caso contrário o valor de bonus do funcionário é 0 \n",
    "print o bonus dos 3 funcionarios "
   ]
  },
  {
   "cell_type": "code",
   "execution_count": 68,
   "id": "7b6b8e61",
   "metadata": {},
   "outputs": [
    {
     "name": "stdout",
     "output_type": "stream",
     "text": [
      "o Funcionário 1 ganou 1000.0 de bonus.\n",
      "O funcionário 2 ganhou 0 de bonus\n",
      "O funcionário 3 ganhou 270.0 de bonus\n"
     ]
    }
   ],
   "source": [
    "meta = 1000\n",
    "venda_func1 = 10000\n",
    "venda_func2 = 770\n",
    "venda_func3 = 2700\n",
    "\n",
    "if venda_func1 >= 1000:\n",
    "    print(\"o Funcionário 1 ganou {} de bonus.\".format(venda_func1 * 0.1))\n",
    "    \n",
    "if venda_func2 >= 1000:\n",
    "    bonus = venda_func2 * 0.1\n",
    "else:\n",
    "    bonus = 0\n",
    "print('O funcionário 2 ganhou {} de bonus'.format(bonus))\n",
    "\n",
    "if venda_func3 >= 1000:\n",
    "    bonus = venda_func3 * 0.1\n",
    "else:\n",
    "    bonus = 0\n",
    "print('O funcionário 3 ganhou {} de bonus'.format(bonus))"
   ]
  },
  {
   "cell_type": "markdown",
   "id": "60ba22a8",
   "metadata": {},
   "source": [
    "Calculo de bonus com uma nova regra\n",
    "\n",
    "Agora crie um novo código que calcule e de um print no bonus dos funcionarios novamente. Porém há uma nova regra nesse 2 caso: \n",
    "\n",
    "A meta é de 1000 vendas\n",
    "\n",
    "Agora, os funcionários que venderem muito acima da meta ganham mais bonus do que os outros. Então o bonus é definido da seguinte forma:\n",
    "\n",
    "- se vendas funcionario for maior ou igual a 2000, então o bonus é de 15% sobre o valor de vendas\n",
    "- se vendas funcionario for menor do que 2000 e maior ou igual a 1000, então o bonus é de 10% sobre o valor de vendas\n",
    "- se vendas funcionario for menos do que 1000 então o bonus do funcionário é de 0\n",
    "\n",
    "Use as mesmas variaveis de vendas funcionario"
   ]
  },
  {
   "cell_type": "code",
   "execution_count": 71,
   "id": "2c93fb88",
   "metadata": {},
   "outputs": [
    {
     "name": "stdout",
     "output_type": "stream",
     "text": [
      "O funcionario 1 ganhou 1500.0\n",
      "O funcionario 2 ganhou 0\n",
      "O funcionario 3 ganhou 405.0\n"
     ]
    }
   ],
   "source": [
    "if venda_func1 >= 1000:\n",
    "    if venda_func1 >= 2000:\n",
    "        bonus = 0.15 * venda_func1\n",
    "    else:\n",
    "        bonus = 0.1 * venda_func1\n",
    "else:\n",
    "    bonus = 0\n",
    "print('O funcionario 1 ganhou {}'.format(bonus))\n",
    "\n",
    "if venda_func2 >= 1000:\n",
    "    if venda_func2 >= 2000:\n",
    "        bonus = 0.15 * venda_func2\n",
    "    else:\n",
    "        bonus = 0.1 * venda_func2\n",
    "else:\n",
    "    bonus = 0\n",
    "print('O funcionario 2 ganhou {}'.format(bonus))\n",
    "\n",
    "if venda_func3 >= 1000:\n",
    "    if venda_func3 >= 2000:\n",
    "        bonus = 0.15 * venda_func3\n",
    "    else:\n",
    "        bonus = 0.1 * venda_func3\n",
    "else:\n",
    "    bonus = 0\n",
    "print('O funcionario 3 ganhou {}'.format(bonus))\n",
    "\n",
    "\n"
   ]
  },
  {
   "cell_type": "markdown",
   "id": "00575642",
   "metadata": {},
   "source": [
    "Comparações Contraintuitivas \n",
    "\n",
    "Existem algumas comparaçoes no Python que não são tão intuitivas quando vemos pela primeira vez, mas que são muito usadas, principalmente por programados mais experientes. \n",
    "\n",
    "É bom sabermos que alguns exemplos e buscar sempre entender o que aquela comparação está buscando verificar\n",
    "\n",
    "Exemplo 1 \n",
    "Digamos que você está construindo um sistema de controle de vendas e precisa de algumas informações para fazer o calculo do resultado da loja no fim de um mes"
   ]
  },
  {
   "cell_type": "code",
   "execution_count": 75,
   "id": "c5f11a32",
   "metadata": {},
   "outputs": [
    {
     "name": "stdout",
     "output_type": "stream",
     "text": [
      "Qual foi o faturamento da loja nesse mÊs\n",
      "Qual foi o custo da loja nesse mes\n",
      "Preencha o faturamento ou o custo corretamente\n"
     ]
    }
   ],
   "source": [
    "faturamento = input('Qual foi o faturamento da loja nesse mÊs')\n",
    "custo = input('Qual foi o custo da loja nesse mes')\n",
    "\n",
    "if faturamento == '' or custo == '':\n",
    "    print('Preencha o faturamento ou o custo corretamente')\n",
    "   \n",
    "else:\n",
    "\n",
    "    lucro = int(faturamento) - int(custo)\n",
    "    print('O lucro da loja foi de {}'.format(lucro))"
   ]
  },
  {
   "cell_type": "markdown",
   "id": "f6ac92c8",
   "metadata": {},
   "source": [
    "Exercicios: \n",
    "\n",
    "1. Criando um mini sistema de controle de estoque\n",
    "\n",
    "- Crie um sistema para ser usado pelo time de controle de estoque de um centro de distribuição.\n",
    "\n",
    "Imagine que ao fim de todo dia, o time conta quantas unidades de produto existem no estoque. Se tivermos um estoque abaixo do estoque permitido para aquela categoria do produto, o time deve ser avisado (print) para fazer um novo pedido daquele produto.\n",
    "\n",
    "Cada categoria de produto tem um estoque minimo diferente, segundo a regra abaixo:\n",
    "\n",
    "1. alimentos -> estoque minimo 50\n",
    "2. bebidas -> estoque minimo 75\n",
    "3. limpeza -> estoque minimo 30\n",
    "\n",
    "Para isso vamos criar um programa que pede 3 inputs do usuário: nome do produto, categoria e quantidade atual em estoque. \n",
    "\n",
    "Se o produto tiver abaixo do estoque minimo da categoria dele, o programa deve printar a mensagem \"Solicitar {produto} á equipe de compras, temos apenas {unidades} em estoque\"\n",
    "\n",
    "Se o usuario preenche os inputs com bebidas dolly, 90 o programa não deve exibir nenhuma mensagem\n",
    "\n",
    "Agora, se o usuário preenche os inputs com bebidas, guarana, 60, o programa deve exibir a mensagem, \"solicitar guarana a equipe de compras, temos apenas 60 unidades em estoque. \n",
    "\n",
    "Obs. lembre de usar o int() para transformar o numero inserido pelo usuario no input de string para int\n",
    "obs2. caso o usuário não preencha alguma das 3 informações, o programa deve exibir uma mensagem para avisa-lo de preencher corretamente. "
   ]
  },
  {
   "cell_type": "code",
   "execution_count": 81,
   "id": "16d26582",
   "metadata": {},
   "outputs": [
    {
     "name": "stdout",
     "output_type": "stream",
     "text": [
      "Qual o produto: salgadinho\n",
      "Qual a categoria do produto: alimentos\n",
      "Qual a quantidade atual do produto: 4\n",
      "Solicitar salgadinho a equipe de compras, temos apenas 4 unidades em estoque\n"
     ]
    }
   ],
   "source": [
    "produto = input (\"Qual o produto: \")\n",
    "categoria = input(\"Qual a categoria do produto: \")\n",
    "qtde = int(input (\"Qual a quantidade atual do produto: \"))\n",
    "\n",
    "if produto and categoria and qtde:\n",
    "    if categoria == 'bebidas':\n",
    "        if qtde < 75:\n",
    "            print('Solicitar o {} a equipe de compras, temos apenas {} unidades em estoque'.format(produto, qtde))\n",
    "    elif categoria == \"limpeza\":\n",
    "        if qtde < 30:\n",
    "            print(\"Solcitar a {} a equipe de compras, temos apenas {} unidades em estoque\".format(produto, qtde))\n",
    "    else:\n",
    "        if qtde < 50:\n",
    "            print('Solicitar {} a equipe de compras, temos apenas {} unidades em estoque'.format(produto, qtde))\n",
    "else:\n",
    "    print('Preencha todas as informações')\n"
   ]
  },
  {
   "cell_type": "code",
   "execution_count": null,
   "id": "ee9a408c",
   "metadata": {},
   "outputs": [],
   "source": []
  }
 ],
 "metadata": {
  "kernelspec": {
   "display_name": "Python 3",
   "language": "python",
   "name": "python3"
  },
  "language_info": {
   "codemirror_mode": {
    "name": "ipython",
    "version": 3
   },
   "file_extension": ".py",
   "mimetype": "text/x-python",
   "name": "python",
   "nbconvert_exporter": "python",
   "pygments_lexer": "ipython3",
   "version": "3.8.8"
  }
 },
 "nbformat": 4,
 "nbformat_minor": 5
}
